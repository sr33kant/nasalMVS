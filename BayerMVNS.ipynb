{
 "cells": [
  {
   "cell_type": "raw",
   "metadata": {},
   "source": [
    "###Problem Summry"
   ]
  },
  {
   "cell_type": "code",
   "execution_count": 117,
   "metadata": {
    "collapsed": false
   },
   "outputs": [],
   "source": [
    "import pandas as pd\n",
    "import numpy as np\n",
    "from statsmodels.discrete.discrete_model import Poisson\n",
    "import matplotlib.pyplot as plt\n",
    "from statsmodels.discrete.discrete_model import NegativeBinomial\n",
    "from statsmodels.discrete.count_model import ZeroInflatedNegativeBinomialP\n",
    "from statsmodels.discrete.count_model import ZeroInflatedGeneralizedPoisson\n",
    "from statsmodels.discrete.count_model import ZeroInflatedPoisson\n",
    "from statsmodels.miscmodels.count import PoissonZiGMLE\n",
    "import statsmodels.api as sm"
   ]
  },
  {
   "cell_type": "code",
   "execution_count": 24,
   "metadata": {
    "collapsed": true
   },
   "outputs": [],
   "source": [
    "efficacy_data=pd.read_csv(r\"C:\\Users\\sreek\\Documents\\bayer\\Scenario\\efficacy.csv\")\n",
    "subject_data=pd.read_csv(r'C:\\Users\\sreek\\Documents\\bayer\\Scenario\\subject.csv')\n",
    "randomization_data=pd.read_csv(r'C:\\Users\\sreek\\Documents\\bayer\\Scenario\\randomization.csv')\n",
    "full_data=efficacy_data.set_index('subject').join(subject_data.set_index('subject'))\\\n",
    ".join(randomization_data.set_index('subject')).reset_index()\n"
   ]
  },
  {
   "cell_type": "code",
   "execution_count": 34,
   "metadata": {
    "collapsed": true
   },
   "outputs": [],
   "source": [
    "full_data.rename(columns={\"eye.colour\":\"eye_colour\",\"tissue.use\":\"tissue_use\",\\\n",
    "                          \"mucus.viscosity\":\"mucus_viscosity\",\"previous.year\":\"previous_year\",\"eye.colour\":\"eye_colour\"},inplace=True)\n",
    "\n",
    "full_data['country']=full_data['country'].astype('category')\n",
    "full_data['country']=full_data['country'].cat.codes\n",
    "full_data['tissue_use']=full_data['tissue_use'].astype('category')\n",
    "full_data['tissue_use']=full_data['tissue_use'].cat.codes"
   ]
  },
  {
   "cell_type": "code",
   "execution_count": null,
   "metadata": {
    "collapsed": true
   },
   "outputs": [],
   "source": [
    "full_data.drop(['eye_colour'],axis=1)"
   ]
  },
  {
   "cell_type": "code",
   "execution_count": 60,
   "metadata": {
    "collapsed": false
   },
   "outputs": [
    {
     "name": "stdout",
     "output_type": "stream",
     "text": [
      "Optimization terminated successfully.\n",
      "         Current function value: 0.870141\n",
      "         Iterations: 28\n",
      "         Function evaluations: 29\n",
      "         Gradient evaluations: 29\n"
     ]
    },
    {
     "data": {
      "text/plain": [
       "786.94469219051166"
      ]
     },
     "execution_count": 60,
     "metadata": {},
     "output_type": "execute_result"
    }
   ],
   "source": [
    "ngbi=NegativeBinomial.from_formula(\"full_data.nosebleeds~full_data.mucus_viscosity+\\\n",
    "                     +full_data.tissue_use+full_data.country+full_data.mucus_viscosity*C(full_data.arm)+\\\n",
    "                     full_data.tissue_use*C(full_data.arm)\\\n",
    "                     \",data=full_data\n",
    "                     ).fit()\n",
    "print(ngbi.summary())\n",
    "print (ngbi.aic)"
   ]
  },
  {
   "cell_type": "code",
   "execution_count": 78,
   "metadata": {
    "collapsed": false
   },
   "outputs": [
    {
     "data": {
      "text/plain": [
       "<matplotlib.axes._subplots.AxesSubplot at 0x1ce14d85ba8>"
      ]
     },
     "execution_count": 78,
     "metadata": {},
     "output_type": "execute_result"
    },
    {
     "data": {
      "image/png": "[encoded data removed]",
      "text/plain": [
       "<matplotlib.figure.Figure at 0x1ce14d976a0>"
      ]
     },
     "metadata": {},
     "output_type": "display_data"
    }
   ],
   "source": [
    "%matplotlib inline\n",
    "full_data.mucus_viscosity.hist()"
   ]
  },
  {
   "cell_type": "code",
   "execution_count": 114,
   "metadata": {
    "collapsed": false
   },
   "outputs": [
    {
     "name": "stdout",
     "output_type": "stream",
     "text": [
      "Warning: Maximum number of iterations has been exceeded.\n",
      "         Current function value: 0.868522\n",
      "         Iterations: 35\n",
      "         Function evaluations: 38\n",
      "         Gradient evaluations: 38\n",
      "                              Results: ZeroInflatedNegativeBinomialP\n",
      "===================================================================================================\n",
      "Model:                     ZeroInflatedNegativeBinomialP        Pseudo R-squared:        0.024     \n",
      "Dependent Variable:        full_data.nosebleeds                 AIC:                     779.5107  \n",
      "Date:                      2018-08-18 21:38                     BIC:                     799.9786  \n",
      "No. Observations:          443                                  Log-Likelihood:          -384.76   \n",
      "Df Model:                  4                                    LL-Null:                 -394.41   \n",
      "Df Residuals:              438                                  LLR p-value:             0.00068295\n",
      "Converged:                 0.0000                               Scale:                   1.0000    \n",
      "---------------------------------------------------------------------------------------------------\n",
      "                                                    Coef.  Std.Err.    z    P>|z|   [0.025   0.975]\n",
      "---------------------------------------------------------------------------------------------------\n",
      "inflate_const                                      -3.1270   4.3223 -0.7235 0.4694 -11.5985  5.3445\n",
      "Intercept                                          -0.2485   0.2912 -0.8532 0.3935  -0.8192  0.3223\n",
      "full_data.arm[T.PLACEBO]                           -0.1952   0.2744 -0.7114 0.4768  -0.7331  0.3426\n",
      "full_data.mucus_viscosity                          -0.3150   0.1471 -2.1414 0.0322  -0.6034 -0.0267\n",
      "full_data.mucus_viscosity:full_data.arm[T.PLACEBO]  0.3956   0.1725  2.2931 0.0218   0.0575  0.7336\n",
      "full_data.tissue_use                               -0.5777   0.1796 -3.2157 0.0013  -0.9298 -0.2256\n",
      "alpha                                               0.7885   0.2256  3.4948 0.0005   0.3463  1.2307\n",
      "===================================================================================================\n",
      "\n",
      "779.510739894\n",
      "inflate_const                                        -3.126961\n",
      "Intercept                                            -0.248451\n",
      "full_data.arm[T.PLACEBO]                             -0.195238\n",
      "full_data.mucus_viscosity                            -0.315043\n",
      "full_data.mucus_viscosity:full_data.arm[T.PLACEBO]    0.395555\n",
      "full_data.tissue_use                                 -0.577682\n",
      "alpha                                                 0.788466\n",
      "dtype: float64\n"
     ]
    },
    {
     "name": "stderr",
     "output_type": "stream",
     "text": [
      "C:\\python\\pyLibs\\Anaconda\\lib\\site-packages\\statsmodels\\base\\model.py:508: ConvergenceWarning: Maximum Likelihood optimization failed to converge. Check mle_retvals\n",
      "  \"Check mle_retvals\", ConvergenceWarning)\n"
     ]
    }
   ],
   "source": [
    "zingbi=ZeroInflatedNegativeBinomialP.from_formula(\"full_data.nosebleeds~full_data.mucus_viscosity\\\n",
    "                                                 +full_data.tissue_use+full_data.mucus_viscosity*full_data.arm\",\\\n",
    "                                                  data=full_data, p=1).fit()\n",
    "print(zingbi.summary2())\n",
    "print (zingbi.aic)\n",
    "print (zingbi.params)\n"
   ]
  },
  {
   "cell_type": "code",
   "execution_count": 175,
   "metadata": {
    "collapsed": false
   },
   "outputs": [],
   "source": [
    "endg=full_data.nosebleeds\n",
    "exg=full_data[full_data.columns.difference(['nosebleeds','arm'])]"
   ]
  },
  {
   "cell_type": "code",
   "execution_count": 163,
   "metadata": {
    "collapsed": false
   },
   "outputs": [
    {
     "name": "stdout",
     "output_type": "stream",
     "text": [
      "Optimization terminated successfully.\n",
      "         Current function value: 0.863373\n",
      "         Iterations: 32\n",
      "         Function evaluations: 34\n",
      "         Gradient evaluations: 34\n",
      "                    ZeroInflatedGeneralizedPoisson Regression Results                     \n",
      "==========================================================================================\n",
      "Dep. Variable:               full_data.nosebleeds   No. Observations:                  443\n",
      "Model:             ZeroInflatedGeneralizedPoisson   Df Residuals:                      437\n",
      "Method:                                       MLE   Df Model:                            5\n",
      "Date:                            Sat, 18 Aug 2018   Pseudo R-squ.:                 0.03045\n",
      "Time:                                    23:22:40   Log-Likelihood:                -382.47\n",
      "converged:                                   True   LL-Null:                       -394.49\n",
      "                                                    LLR p-value:                 0.0002148\n",
      "===============================================================================================\n",
      "                                  coef    std err          z      P>|z|      [0.025      0.975]\n",
      "-----------------------------------------------------------------------------------------------\n",
      "inflate_const                  -0.8688      1.016     -0.855      0.393      -2.861       1.123\n",
      "Intercept                      -1.2985      0.539     -2.411      0.016      -2.354      -0.243\n",
      "C(full_data.arm)[T.PLACEBO]     0.4431      0.189      2.339      0.019       0.072       0.814\n",
      "full_data.mucus_viscosity      -0.0778      0.080     -0.972      0.331      -0.235       0.079\n",
      "full_data.tissue_use           -0.3403      0.200     -1.700      0.089      -0.733       0.052\n",
      "full_data.country              -0.0552      0.033     -1.677      0.094      -0.120       0.009\n",
      "full_data.previous_year         0.4657      0.134      3.469      0.001       0.203       0.729\n",
      "alpha                           0.2912      0.260      1.121      0.262      -0.218       0.801\n",
      "===============================================================================================\n",
      "AIC:\n",
      "776.948706919\n"
     ]
    },
    {
     "data": {
      "text/plain": [
       "1.0"
      ]
     },
     "execution_count": 163,
     "metadata": {},
     "output_type": "execute_result"
    }
   ],
   "source": [
    "zingp=ZeroInflatedGeneralizedPoisson.from_formula(\"full_data.nosebleeds~full_data.mucus_viscosity+full_data.tissue_use \\\n",
    "                             +full_data.country+full_data.previous_year+C(full_data.arm)\\\n",
    "                             \",data=full_data).fit()\n",
    "print (zingp.summary())\n",
    "print(\"AIC:\")\n",
    "print (zingp.aic)\n",
    "\n",
    "zingp.scale"
   ]
  },
  {
   "cell_type": "code",
   "execution_count": 111,
   "metadata": {
    "collapsed": false
   },
   "outputs": [],
   "source": [
    "full_data.drop(['subject'],axis=1,inplace=True)"
   ]
  },
  {
   "cell_type": "code",
   "execution_count": 149,
   "metadata": {
    "collapsed": true
   },
   "outputs": [],
   "source": [
    "from patsy import ModelDesc"
   ]
  },
  {
   "cell_type": "code",
   "execution_count": 155,
   "metadata": {
    "collapsed": true
   },
   "outputs": [],
   "source": [
    "desc = ModelDesc.from_formula(\"y ~ a + b + c + d+a*b\")"
   ]
  },
  {
   "cell_type": "code",
   "execution_count": null,
   "metadata": {
    "collapsed": true
   },
   "outputs": [],
   "source": []
  }
 ],
 "metadata": {
  "kernelspec": {
   "display_name": "Python 3",
   "language": "python",
   "name": "python3"
  },
  "language_info": {
   "codemirror_mode": {
    "name": "ipython",
    "version": 3
   },
   "file_extension": ".py",
   "mimetype": "text/x-python",
   "name": "python",
   "nbconvert_exporter": "python",
   "pygments_lexer": "ipython3",
   "version": "3.5.1"
  }
 },
 "nbformat": 4,
 "nbformat_minor": 0
}
