{
 "cells": [
  {
   "cell_type": "code",
   "execution_count": 1,
   "metadata": {
    "collapsed": true
   },
   "outputs": [],
   "source": [
    "import pandas as pd\n",
    "import numpy as np\n"
   ]
  },
  {
   "cell_type": "code",
   "execution_count": 2,
   "metadata": {
    "collapsed": false
   },
   "outputs": [],
   "source": [
    "efficacy_data=pd.read_csv(r\"C:\\Users\\sreek\\Documents\\bayer\\Scenario\\efficacy.csv\")\n",
    "subject_data=pd.read_csv(r'C:\\Users\\sreek\\Documents\\bayer\\Scenario\\subject.csv')\n",
    "randomization_data=pd.read_csv(r'C:\\Users\\sreek\\Documents\\bayer\\Scenario\\randomization.csv')\n"
   ]
  },
  {
   "cell_type": "code",
   "execution_count": 3,
   "metadata": {
    "collapsed": false
   },
   "outputs": [],
   "source": [
    "full_data=efficacy_data.set_index('subject').join(subject_data.set_index('subject'))\\\n",
    ".join(randomization_data.set_index('subject')).reset_index()"
   ]
  },
  {
   "cell_type": "code",
   "execution_count": 75,
   "metadata": {
    "collapsed": false
   },
   "outputs": [],
   "source": [
    "full_data.to_csv(r\"C:\\Users\\sreek\\Documents\\bayer\\Scenario\\full_data.csv\")\n"
   ]
  },
  {
   "cell_type": "code",
   "execution_count": 4,
   "metadata": {
    "collapsed": false
   },
   "outputs": [],
   "source": [
    "from statsmodels.discrete.discrete_model import Poisson\n"
   ]
  },
  {
   "cell_type": "code",
   "execution_count": 169,
   "metadata": {
    "collapsed": true
   },
   "outputs": [],
   "source": [
    "full_data.rename(columns={\"eye.colour\":\"eye_colour\",\"tissue.use\":\"tissue_use\",\\\n",
    "                          \"mucus.viscosity\":\"mucus_viscosity\",\"previous.year\":\"previous_year\",\"eye.colour\":\"eye_colour\"},inplace=True)"
   ]
  },
  {
   "cell_type": "code",
   "execution_count": 170,
   "metadata": {
    "collapsed": false
   },
   "outputs": [
    {
     "data": {
      "text/html": [
       "<div>\n",
       "<table border=\"1\" class=\"dataframe\">\n",
       "  <thead>\n",
       "    <tr style=\"text-align: right;\">\n",
       "      <th></th>\n",
       "      <th>subject</th>\n",
       "      <th>nosebleeds</th>\n",
       "      <th>duration</th>\n",
       "      <th>country</th>\n",
       "      <th>eye_colour</th>\n",
       "      <th>tissue_use</th>\n",
       "      <th>previous_year</th>\n",
       "      <th>mucus_viscosity</th>\n",
       "      <th>arm</th>\n",
       "    </tr>\n",
       "  </thead>\n",
       "  <tbody>\n",
       "    <tr>\n",
       "      <th>0</th>\n",
       "      <td>359</td>\n",
       "      <td>4</td>\n",
       "      <td>365</td>\n",
       "      <td>A</td>\n",
       "      <td>BLUE</td>\n",
       "      <td>MEDIUM</td>\n",
       "      <td>2</td>\n",
       "      <td>1.304348</td>\n",
       "      <td>PLACEBO</td>\n",
       "    </tr>\n",
       "    <tr>\n",
       "      <th>1</th>\n",
       "      <td>241</td>\n",
       "      <td>0</td>\n",
       "      <td>365</td>\n",
       "      <td>A</td>\n",
       "      <td>BLUE</td>\n",
       "      <td>HIGH</td>\n",
       "      <td>2</td>\n",
       "      <td>0.869565</td>\n",
       "      <td>PLACEBO</td>\n",
       "    </tr>\n",
       "    <tr>\n",
       "      <th>2</th>\n",
       "      <td>409</td>\n",
       "      <td>1</td>\n",
       "      <td>365</td>\n",
       "      <td>A</td>\n",
       "      <td>BLUE</td>\n",
       "      <td>MEDIUM</td>\n",
       "      <td>2</td>\n",
       "      <td>0.434783</td>\n",
       "      <td>PLACEBO</td>\n",
       "    </tr>\n",
       "    <tr>\n",
       "      <th>3</th>\n",
       "      <td>271</td>\n",
       "      <td>0</td>\n",
       "      <td>285</td>\n",
       "      <td>A</td>\n",
       "      <td>BLUE</td>\n",
       "      <td>HIGH</td>\n",
       "      <td>3</td>\n",
       "      <td>0.869565</td>\n",
       "      <td>ACTIVE</td>\n",
       "    </tr>\n",
       "  </tbody>\n",
       "</table>\n",
       "</div>"
      ],
      "text/plain": [
       "   subject  nosebleeds  duration country eye_colour tissue_use  previous_year  \\\n",
       "0      359           4       365       A       BLUE     MEDIUM              2   \n",
       "1      241           0       365       A       BLUE       HIGH              2   \n",
       "2      409           1       365       A       BLUE     MEDIUM              2   \n",
       "3      271           0       285       A       BLUE       HIGH              3   \n",
       "\n",
       "   mucus_viscosity      arm  \n",
       "0         1.304348  PLACEBO  \n",
       "1         0.869565  PLACEBO  \n",
       "2         0.434783  PLACEBO  \n",
       "3         0.869565   ACTIVE  "
      ]
     },
     "execution_count": 170,
     "metadata": {},
     "output_type": "execute_result"
    }
   ],
   "source": [
    "full_data.head(4)"
   ]
  },
  {
   "cell_type": "code",
   "execution_count": 161,
   "metadata": {
    "collapsed": false
   },
   "outputs": [
    {
     "data": {
      "text/plain": [
       "0.45045045045045046"
      ]
     },
     "execution_count": 161,
     "metadata": {},
     "output_type": "execute_result"
    }
   ],
   "source": [
    "full_data.nosebleeds.mean()"
   ]
  },
  {
   "cell_type": "code",
   "execution_count": 160,
   "metadata": {
    "collapsed": false
   },
   "outputs": [
    {
     "data": {
      "text/plain": [
       "0.7898643564557851"
      ]
     },
     "execution_count": 160,
     "metadata": {},
     "output_type": "execute_result"
    }
   ],
   "source": [
    "full_data.nosebleeds.var()"
   ]
  },
  {
   "cell_type": "code",
   "execution_count": 9,
   "metadata": {
    "collapsed": true
   },
   "outputs": [],
   "source": [
    "import statsmodels.formula.api as smf \n",
    "import statsmodels.api as sm"
   ]
  },
  {
   "cell_type": "code",
   "execution_count": 43,
   "metadata": {
    "collapsed": false
   },
   "outputs": [
    {
     "name": "stdout",
     "output_type": "stream",
     "text": [
      "Conditional mean\n",
      "arm\n",
      "ACTIVE     0.381166\n",
      "PLACEBO    0.520362\n",
      "Name: nosebleeds, dtype: float64\n",
      "Conditional variance\n",
      "arm\n",
      "ACTIVE     0.696400\n",
      "PLACEBO    0.877993\n",
      "Name: nosebleeds, dtype: float64\n"
     ]
    }
   ],
   "source": [
    "print (\"Conditional mean\"),\n",
    "print (full_data.groupby('arm')['nosebleeds'].mean()),\n",
    "print (\"Conditional variance\"),\n",
    "print(full_data.groupby('arm')['nosebleeds'].var())"
   ]
  },
  {
   "cell_type": "code",
   "execution_count": 47,
   "metadata": {
    "collapsed": false,
    "scrolled": true
   },
   "outputs": [
    {
     "data": {
      "text/plain": [
       "0    322\n",
       "1     75\n",
       "2     26\n",
       "3     12\n",
       "4      8\n",
       "5      1\n",
       "Name: nosebleeds, dtype: int64"
      ]
     },
     "execution_count": 47,
     "metadata": {},
     "output_type": "execute_result"
    }
   ],
   "source": [
    "full_data.nosebleeds.value_counts()"
   ]
  },
  {
   "cell_type": "code",
   "execution_count": 125,
   "metadata": {
    "collapsed": false
   },
   "outputs": [],
   "source": [
    "import matplotlib.pyplot as plt"
   ]
  },
  {
   "cell_type": "code",
   "execution_count": 53,
   "metadata": {
    "collapsed": true
   },
   "outputs": [],
   "source": [
    "%matplotlib inline"
   ]
  },
  {
   "cell_type": "code",
   "execution_count": 57,
   "metadata": {
    "collapsed": false
   },
   "outputs": [
    {
     "data": {
      "text/plain": [
       "(array([ 322.,    0.,   75.,    0.,   26.,    0.,   12.,    0.,    8.,    1.]),\n",
       " array([ 0. ,  0.5,  1. ,  1.5,  2. ,  2.5,  3. ,  3.5,  4. ,  4.5,  5. ]),\n",
       " <a list of 10 Patch objects>)"
      ]
     },
     "execution_count": 57,
     "metadata": {},
     "output_type": "execute_result"
    },
    {
     "data": {
      "image/png": "[encoded data removed]",
      "text/plain": [
       "<matplotlib.figure.Figure at 0x19583e69f98>"
      ]
     },
     "metadata": {},
     "output_type": "display_data"
    }
   ],
   "source": [
    "plt.hist(full_data.nosebleeds)"
   ]
  },
  {
   "cell_type": "code",
   "execution_count": 58,
   "metadata": {
    "collapsed": false
   },
   "outputs": [
    {
     "data": {
      "text/plain": [
       "(array([ 347.,    0.,    0.,   77.,    0.,    0.,   15.,    0.,    0.,    5.]),\n",
       " array([ 2. ,  2.3,  2.6,  2.9,  3.2,  3.5,  3.8,  4.1,  4.4,  4.7,  5. ]),\n",
       " <a list of 10 Patch objects>)"
      ]
     },
     "execution_count": 58,
     "metadata": {},
     "output_type": "execute_result"
    },
    {
     "data": {
      "image/png": "[encoded data removed]",
      "text/plain": [
       "<matplotlib.figure.Figure at 0x19583f3b160>"
      ]
     },
     "metadata": {},
     "output_type": "display_data"
    }
   ],
   "source": [
    "plt.hist(full_data.previous_year)"
   ]
  },
  {
   "cell_type": "code",
   "execution_count": 144,
   "metadata": {
    "collapsed": false
   },
   "outputs": [
    {
     "data": {
      "text/plain": [
       "arm\n",
       "ACTIVE     Axes(0.125,0.125;0.775x0.775)\n",
       "PLACEBO    Axes(0.125,0.125;0.775x0.775)\n",
       "Name: duration, dtype: object"
      ]
     },
     "execution_count": 144,
     "metadata": {},
     "output_type": "execute_result"
    },
    {
     "data": {
      "image/png": "[encoded data removed]",
      "text/plain": [
       "<matplotlib.figure.Figure at 0x214d8ab4438>"
      ]
     },
     "metadata": {},
     "output_type": "display_data"
    }
   ],
   "source": [
    "full_data.groupby('arm')['duration'].hist()"
   ]
  },
  {
   "cell_type": "code",
   "execution_count": 163,
   "metadata": {
    "collapsed": true
   },
   "outputs": [],
   "source": [
    "from statsmodels.discrete.discrete_model import NegativeBinomial\n",
    "negativebinomial = NegativeBinomial.from_formula"
   ]
  },
  {
   "cell_type": "code",
   "execution_count": 182,
   "metadata": {
    "collapsed": false
   },
   "outputs": [
    {
     "name": "stdout",
     "output_type": "stream",
     "text": [
      "Optimization terminated successfully.\n",
      "         Current function value: 0.858133\n",
      "         Iterations: 33\n",
      "         Function evaluations: 34\n",
      "         Gradient evaluations: 34\n"
     ]
    }
   ],
   "source": [
    "md1=negativebinomial(\"full_data.nosebleeds~full_data.tissue_use+full_data.mucus_viscosity+C(full_data.arm)+full_data.previous_year\",data=full_data,\\\n",
    "                     exposure=full_data.duration).fit()"
   ]
  },
  {
   "cell_type": "code",
   "execution_count": 183,
   "metadata": {
    "collapsed": false
   },
   "outputs": [
    {
     "data": {
      "text/html": [
       "<table class=\"simpletable\">\n",
       "<caption>NegativeBinomial Regression Results</caption>\n",
       "<tr>\n",
       "  <th>Dep. Variable:</th> <td>full_data.nosebleeds</td> <th>  No. Observations:  </th>  <td>   443</td>  \n",
       "</tr>\n",
       "<tr>\n",
       "  <th>Model:</th>           <td>NegativeBinomial</td>   <th>  Df Residuals:      </th>  <td>   438</td>  \n",
       "</tr>\n",
       "<tr>\n",
       "  <th>Method:</th>                 <td>MLE</td>         <th>  Df Model:          </th>  <td>     4</td>  \n",
       "</tr>\n",
       "<tr>\n",
       "  <th>Date:</th>            <td>Fri, 17 Aug 2018</td>   <th>  Pseudo R-squ.:     </th>  <td>0.02930</td> \n",
       "</tr>\n",
       "<tr>\n",
       "  <th>Time:</th>                <td>20:59:44</td>       <th>  Log-Likelihood:    </th> <td> -380.15</td> \n",
       "</tr>\n",
       "<tr>\n",
       "  <th>converged:</th>             <td>True</td>         <th>  LL-Null:           </th> <td> -391.63</td> \n",
       "</tr>\n",
       "<tr>\n",
       "  <th> </th>                        <td> </td>          <th>  LLR p-value:       </th> <td>0.0001296</td>\n",
       "</tr>\n",
       "</table>\n",
       "<table class=\"simpletable\">\n",
       "<tr>\n",
       "                 <td></td>                   <th>coef</th>     <th>std err</th>      <th>z</th>      <th>P>|z|</th> <th>[95.0% Conf. Int.]</th> \n",
       "</tr>\n",
       "<tr>\n",
       "  <th>Intercept</th>                      <td>   -7.7176</td> <td>    0.419</td> <td>  -18.420</td> <td> 0.000</td> <td>   -8.539    -6.896</td>\n",
       "</tr>\n",
       "<tr>\n",
       "  <th>full_data.tissue_use[T.MEDIUM]</th> <td>   -0.3976</td> <td>    0.194</td> <td>   -2.055</td> <td> 0.040</td> <td>   -0.777    -0.018</td>\n",
       "</tr>\n",
       "<tr>\n",
       "  <th>C(full_data.arm)[T.PLACEBO]</th>    <td>    0.4852</td> <td>    0.192</td> <td>    2.528</td> <td> 0.011</td> <td>    0.109     0.861</td>\n",
       "</tr>\n",
       "<tr>\n",
       "  <th>full_data.mucus_viscosity</th>      <td>   -0.0764</td> <td>    0.084</td> <td>   -0.914</td> <td> 0.361</td> <td>   -0.240     0.087</td>\n",
       "</tr>\n",
       "<tr>\n",
       "  <th>full_data.previous_year</th>        <td>    0.4728</td> <td>    0.138</td> <td>    3.437</td> <td> 0.001</td> <td>    0.203     0.742</td>\n",
       "</tr>\n",
       "<tr>\n",
       "  <th>alpha</th>                          <td>    1.4278</td> <td>    0.346</td> <td>    4.129</td> <td> 0.000</td> <td>    0.750     2.106</td>\n",
       "</tr>\n",
       "</table>"
      ],
      "text/plain": [
       "<class 'statsmodels.iolib.summary.Summary'>\n",
       "\"\"\"\n",
       "                      NegativeBinomial Regression Results                       \n",
       "================================================================================\n",
       "Dep. Variable:     full_data.nosebleeds   No. Observations:                  443\n",
       "Model:                 NegativeBinomial   Df Residuals:                      438\n",
       "Method:                             MLE   Df Model:                            4\n",
       "Date:                  Fri, 17 Aug 2018   Pseudo R-squ.:                 0.02930\n",
       "Time:                          20:59:44   Log-Likelihood:                -380.15\n",
       "converged:                         True   LL-Null:                       -391.63\n",
       "                                          LLR p-value:                 0.0001296\n",
       "==================================================================================================\n",
       "                                     coef    std err          z      P>|z|      [95.0% Conf. Int.]\n",
       "--------------------------------------------------------------------------------------------------\n",
       "Intercept                         -7.7176      0.419    -18.420      0.000        -8.539    -6.896\n",
       "full_data.tissue_use[T.MEDIUM]    -0.3976      0.194     -2.055      0.040        -0.777    -0.018\n",
       "C(full_data.arm)[T.PLACEBO]        0.4852      0.192      2.528      0.011         0.109     0.861\n",
       "full_data.mucus_viscosity         -0.0764      0.084     -0.914      0.361        -0.240     0.087\n",
       "full_data.previous_year            0.4728      0.138      3.437      0.001         0.203     0.742\n",
       "alpha                              1.4278      0.346      4.129      0.000         0.750     2.106\n",
       "==================================================================================================\n",
       "\"\"\""
      ]
     },
     "execution_count": 183,
     "metadata": {},
     "output_type": "execute_result"
    }
   ],
   "source": [
    "md1.summary()"
   ]
  },
  {
   "cell_type": "code",
   "execution_count": 62,
   "metadata": {
    "collapsed": false
   },
   "outputs": [],
   "source": [
    "import  statsmodels.api as sm\n",
    "from statsmodels.miscmodels.count import PoissonZiGMLE"
   ]
  },
  {
   "cell_type": "code",
   "execution_count": 109,
   "metadata": {
    "collapsed": false
   },
   "outputs": [
    {
     "name": "stdout",
     "output_type": "stream",
     "text": [
      "Optimization terminated successfully.\n",
      "         Current function value: 0.871797\n",
      "         Iterations: 383\n",
      "         Function evaluations: 601\n"
     ]
    },
    {
     "data": {
      "text/html": [
       "<table class=\"simpletable\">\n",
       "<caption>PoissonZiGMLE Results</caption>\n",
       "<tr>\n",
       "  <th>Dep. Variable:</th>    <td>full_data.nosebleeds</td> <th>  Log-Likelihood:    </th> <td> -386.21</td>\n",
       "</tr>\n",
       "<tr>\n",
       "  <th>Model:</th>                <td>PoissonZiGMLE</td>    <th>  AIC:               </th> <td>   782.4</td>\n",
       "</tr>\n",
       "<tr>\n",
       "  <th>Method:</th>            <td>Maximum Likelihood</td>  <th>  BIC:               </th> <td>   802.9</td>\n",
       "</tr>\n",
       "<tr>\n",
       "  <th>Date:</th>               <td>Fri, 17 Aug 2018</td>   <th>                     </th>     <td> </td>   \n",
       "</tr>\n",
       "<tr>\n",
       "  <th>Time:</th>                   <td>17:03:47</td>       <th>                     </th>     <td> </td>   \n",
       "</tr>\n",
       "<tr>\n",
       "  <th>No. Observations:</th>        <td>   443</td>        <th>                     </th>     <td> </td>   \n",
       "</tr>\n",
       "<tr>\n",
       "  <th>Df Residuals:</th>            <td>   438</td>        <th>                     </th>     <td> </td>   \n",
       "</tr>\n",
       "<tr>\n",
       "  <th>Df Model:</th>                <td>     4</td>        <th>                     </th>     <td> </td>   \n",
       "</tr>\n",
       "</table>\n",
       "<table class=\"simpletable\">\n",
       "<tr>\n",
       "                 <td></td>                   <th>coef</th>     <th>std err</th>      <th>z</th>      <th>P>|z|</th> <th>[95.0% Conf. Int.]</th> \n",
       "</tr>\n",
       "<tr>\n",
       "  <th>Intercept</th>                      <td>   -1.1277</td> <td>    0.378</td> <td>   -2.986</td> <td> 0.003</td> <td>   -1.868    -0.387</td>\n",
       "</tr>\n",
       "<tr>\n",
       "  <th>full_data.tissue_use[T.MEDIUM]</th> <td>   -0.2381</td> <td>    0.178</td> <td>   -1.341</td> <td> 0.180</td> <td>   -0.586     0.110</td>\n",
       "</tr>\n",
       "<tr>\n",
       "  <th>C(full_data.arm)[T.PLACEBO]</th>    <td>    0.4564</td> <td>    0.171</td> <td>    2.667</td> <td> 0.008</td> <td>    0.121     0.792</td>\n",
       "</tr>\n",
       "<tr>\n",
       "  <th>full_data.mucus_viscosity</th>      <td>   -0.0725</td> <td>    0.071</td> <td>   -1.018</td> <td> 0.309</td> <td>   -0.212     0.067</td>\n",
       "</tr>\n",
       "<tr>\n",
       "  <th>full_data.previous_year</th>        <td>    0.4122</td> <td>    0.103</td> <td>    3.986</td> <td> 0.000</td> <td>    0.210     0.615</td>\n",
       "</tr>\n",
       "<tr>\n",
       "  <th>zi</th>                             <td>    0.0170</td> <td>    0.216</td> <td>    0.079</td> <td> 0.937</td> <td>   -0.407     0.441</td>\n",
       "</tr>\n",
       "</table>"
      ],
      "text/plain": [
       "<class 'statsmodels.iolib.summary.Summary'>\n",
       "\"\"\"\n",
       "                             PoissonZiGMLE Results                              \n",
       "================================================================================\n",
       "Dep. Variable:     full_data.nosebleeds   Log-Likelihood:                -386.21\n",
       "Model:                    PoissonZiGMLE   AIC:                             782.4\n",
       "Method:              Maximum Likelihood   BIC:                             802.9\n",
       "Date:                  Fri, 17 Aug 2018                                         \n",
       "Time:                          17:03:47                                         \n",
       "No. Observations:                   443                                         \n",
       "Df Residuals:                       438                                         \n",
       "Df Model:                             4                                         \n",
       "==================================================================================================\n",
       "                                     coef    std err          z      P>|z|      [95.0% Conf. Int.]\n",
       "--------------------------------------------------------------------------------------------------\n",
       "Intercept                         -1.1277      0.378     -2.986      0.003        -1.868    -0.387\n",
       "full_data.tissue_use[T.MEDIUM]    -0.2381      0.178     -1.341      0.180        -0.586     0.110\n",
       "C(full_data.arm)[T.PLACEBO]        0.4564      0.171      2.667      0.008         0.121     0.792\n",
       "full_data.mucus_viscosity         -0.0725      0.071     -1.018      0.309        -0.212     0.067\n",
       "full_data.previous_year            0.4122      0.103      3.986      0.000         0.210     0.615\n",
       "zi                                 0.0170      0.216      0.079      0.937        -0.407     0.441\n",
       "==================================================================================================\n",
       "\"\"\""
      ]
     },
     "execution_count": 109,
     "metadata": {},
     "output_type": "execute_result"
    }
   ],
   "source": [
    "onemore_mdl=PoissonZiGMLE.from_formula(\"full_data.nosebleeds~full_data.mucus_viscosity+full_data.tissue_use \\\n",
    "                              + C(full_data.arm) +full_data.previous_year   \",data=full_data).fit()\n",
    "onemore_mdl.summary()"
   ]
  },
  {
   "cell_type": "code",
   "execution_count": 180,
   "metadata": {
    "collapsed": false
   },
   "outputs": [
    {
     "name": "stdout",
     "output_type": "stream",
     "text": [
      "                               GEE Regression Results                              \n",
      "===================================================================================\n",
      "Dep. Variable:                  nosebleeds   No. Observations:                  443\n",
      "Model:                                 GEE   No. clusters:                        2\n",
      "Method:                        Generalized   Min. cluster size:                 221\n",
      "                      Estimating Equations   Max. cluster size:                 222\n",
      "Family:                            Poisson   Mean cluster size:               221.5\n",
      "Dependence structure:         Independence   Num. iterations:                     7\n",
      "Date:                     Fri, 17 Aug 2018   Scale:                           1.439\n",
      "Covariance type:                    robust   Time:                         20:58:34\n",
      "===========================================================================================\n",
      "                              coef    std err          z      P>|z|      [95.0% Conf. Int.]\n",
      "-------------------------------------------------------------------------------------------\n",
      "Intercept                  -0.7129      0.268     -2.659      0.008        -1.238    -0.187\n",
      "C(tissue_use)[T.MEDIUM]    -0.2803      0.070     -3.992      0.000        -0.418    -0.143\n",
      "country[T.B]               -0.8466      0.075    -11.256      0.000        -0.994    -0.699\n",
      "country[T.C]               -0.6009      0.163     -3.693      0.000        -0.920    -0.282\n",
      "country[T.D]               -1.3468      0.078    -17.231      0.000        -1.500    -1.194\n",
      "country[T.E]               -0.2429      0.315     -0.770      0.441        -0.861     0.375\n",
      "country[T.F]                0.1637      0.279      0.586      0.558        -0.383     0.711\n",
      "country[T.G]               -0.4564      0.155     -2.939      0.003        -0.761    -0.152\n",
      "country[T.H]               -1.5270      0.098    -15.508      0.000        -1.720    -1.334\n",
      "country[T.I]               -0.3268      0.198     -1.648      0.099        -0.716     0.062\n",
      "country[T.J]               -0.9069      0.154     -5.902      0.000        -1.208    -0.606\n",
      "mucus_viscosity            -0.1013      0.151     -0.670      0.503        -0.397     0.195\n",
      "previous_year               0.3052      0.096      3.191      0.001         0.118     0.493\n",
      "==============================================================================\n",
      "Skew:                          1.8756   Kurtosis:                       4.6484\n",
      "Centered skew:                 1.8378   Centered kurtosis:              4.6552\n",
      "==============================================================================\n"
     ]
    }
   ],
   "source": [
    "import statsmodels.api as sm\n",
    "fam = sm.families.Poisson()\n",
    "ind = sm.cov_struct.Independence()\n",
    "pfmd2=sm.GEE.from_formula(\"nosebleeds~mucus_viscosity+C(tissue_use)+previous_year+country\",groups=full_data.arm\\\n",
    "                          , data=full_data,cov_struct=ind, family=fam).fit()\n",
    "print (pfmd2.summary())"
   ]
  },
  {
   "cell_type": "code",
   "execution_count": 90,
   "metadata": {
    "collapsed": false
   },
   "outputs": [
    {
     "data": {
      "text/plain": [
       "<matplotlib.image.AxesImage at 0x19585a2f978>"
      ]
     },
     "execution_count": 90,
     "metadata": {},
     "output_type": "execute_result"
    },
    {
     "data": {
      "image/png": "[encoded data removed]",
      "text/plain": [
       "<matplotlib.figure.Figure at 0x19585935ba8>"
      ]
     },
     "metadata": {},
     "output_type": "display_data"
    }
   ],
   "source": [
    "plt.matshow(full_data.corr())"
   ]
  },
  {
   "cell_type": "code",
   "execution_count": 15,
   "metadata": {
    "collapsed": true
   },
   "outputs": [],
   "source": [
    "%matplotlib inline"
   ]
  },
  {
   "cell_type": "code",
   "execution_count": 17,
   "metadata": {
    "collapsed": false
   },
   "outputs": [
    {
     "data": {
      "text/html": [
       "<div>\n",
       "<table border=\"1\" class=\"dataframe\">\n",
       "  <thead>\n",
       "    <tr style=\"text-align: right;\">\n",
       "      <th></th>\n",
       "      <th>subject</th>\n",
       "      <th>nosebleeds</th>\n",
       "      <th>duration</th>\n",
       "      <th>previous_year</th>\n",
       "      <th>mucus_viscosity</th>\n",
       "    </tr>\n",
       "  </thead>\n",
       "  <tbody>\n",
       "    <tr>\n",
       "      <th>subject</th>\n",
       "      <td>1.000000</td>\n",
       "      <td>-0.007186</td>\n",
       "      <td>-0.017742</td>\n",
       "      <td>0.056820</td>\n",
       "      <td>0.003959</td>\n",
       "    </tr>\n",
       "    <tr>\n",
       "      <th>nosebleeds</th>\n",
       "      <td>-0.007186</td>\n",
       "      <td>1.000000</td>\n",
       "      <td>0.094586</td>\n",
       "      <td>0.210785</td>\n",
       "      <td>-0.035513</td>\n",
       "    </tr>\n",
       "    <tr>\n",
       "      <th>duration</th>\n",
       "      <td>-0.017742</td>\n",
       "      <td>0.094586</td>\n",
       "      <td>1.000000</td>\n",
       "      <td>0.019600</td>\n",
       "      <td>-0.046960</td>\n",
       "    </tr>\n",
       "    <tr>\n",
       "      <th>previous_year</th>\n",
       "      <td>0.056820</td>\n",
       "      <td>0.210785</td>\n",
       "      <td>0.019600</td>\n",
       "      <td>1.000000</td>\n",
       "      <td>-0.044330</td>\n",
       "    </tr>\n",
       "    <tr>\n",
       "      <th>mucus_viscosity</th>\n",
       "      <td>0.003959</td>\n",
       "      <td>-0.035513</td>\n",
       "      <td>-0.046960</td>\n",
       "      <td>-0.044330</td>\n",
       "      <td>1.000000</td>\n",
       "    </tr>\n",
       "  </tbody>\n",
       "</table>\n",
       "</div>"
      ],
      "text/plain": [
       "                  subject  nosebleeds  duration  previous_year  \\\n",
       "subject          1.000000   -0.007186 -0.017742       0.056820   \n",
       "nosebleeds      -0.007186    1.000000  0.094586       0.210785   \n",
       "duration        -0.017742    0.094586  1.000000       0.019600   \n",
       "previous_year    0.056820    0.210785  0.019600       1.000000   \n",
       "mucus_viscosity  0.003959   -0.035513 -0.046960      -0.044330   \n",
       "\n",
       "                 mucus_viscosity  \n",
       "subject                 0.003959  \n",
       "nosebleeds             -0.035513  \n",
       "duration               -0.046960  \n",
       "previous_year          -0.044330  \n",
       "mucus_viscosity         1.000000  "
      ]
     },
     "execution_count": 17,
     "metadata": {},
     "output_type": "execute_result"
    }
   ],
   "source": [
    "full_data.corr()"
   ]
  },
  {
   "cell_type": "code",
   "execution_count": 21,
   "metadata": {
    "collapsed": false
   },
   "outputs": [
    {
     "data": {
      "text/plain": [
       "<matplotlib.axes._subplots.AxesSubplot at 0x214ce7dc9e8>"
      ]
     },
     "execution_count": 21,
     "metadata": {},
     "output_type": "execute_result"
    },
    {
     "data": {
      "image/png": "[encoded data removed]",
      "text/plain": [
       "<matplotlib.figure.Figure at 0x214ce7ea080>"
      ]
     },
     "metadata": {},
     "output_type": "display_data"
    }
   ],
   "source": [
    "sns.boxplot(full_data.nosebleeds,full_data.mucus_viscosity)"
   ]
  },
  {
   "cell_type": "code",
   "execution_count": 35,
   "metadata": {
    "collapsed": false
   },
   "outputs": [
    {
     "data": {
      "text/plain": [
       "<seaborn.axisgrid.FacetGrid at 0x214d0c565c0>"
      ]
     },
     "execution_count": 35,
     "metadata": {},
     "output_type": "execute_result"
    },
    {
     "data": {
      "image/png": "[encoded data removed]",
      "text/plain": [
       "<matplotlib.figure.Figure at 0x214d10f1e48>"
      ]
     },
     "metadata": {},
     "output_type": "display_data"
    }
   ],
   "source": [
    "sns.lmplot(x='mucus_viscosity',y='nosebleeds',hue='arm',data=full_data,markers=[\"o\", \"x\"],\\\n",
    "            palette=\"Set1\",lowess=True)"
   ]
  },
  {
   "cell_type": "code",
   "execution_count": 60,
   "metadata": {
    "collapsed": false
   },
   "outputs": [
    {
     "data": {
      "text/plain": [
       "<seaborn.axisgrid.FacetGrid at 0x214d6e9d4e0>"
      ]
     },
     "execution_count": 60,
     "metadata": {},
     "output_type": "execute_result"
    },
    {
     "data": {
      "image/png": "[encoded data removed]",
      "text/plain": [
       "<matplotlib.figure.Figure at 0x214d6e9d080>"
      ]
     },
     "metadata": {},
     "output_type": "display_data"
    }
   ],
   "source": [
    "sns.catplot(data=full_data, x=\"mucus_viscosity\", y=\"nosebleeds\",hue='arm',col='tissue_use')"
   ]
  },
  {
   "cell_type": "code",
   "execution_count": null,
   "metadata": {
    "collapsed": true
   },
   "outputs": [],
   "source": []
  }
 ],
 "metadata": {
  "kernelspec": {
   "display_name": "Python 3",
   "language": "python",
   "name": "python3"
  },
  "language_info": {
   "codemirror_mode": {
    "name": "ipython",
    "version": 3
   },
   "file_extension": ".py",
   "mimetype": "text/x-python",
   "name": "python",
   "nbconvert_exporter": "python",
   "pygments_lexer": "ipython3",
   "version": "3.5.1"
  }
 },
 "nbformat": 4,
 "nbformat_minor": 0
}
